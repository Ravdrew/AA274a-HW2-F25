{
 "cells": [
  {
   "cell_type": "markdown",
   "metadata": {
    "id": "WshFeYmnY8sT"
   },
   "source": [
    "# HW1 AA274A Problem 3\n",
    "\n",
    "In this problem, you will write a trajectory optimization algorithm to generate a feasible trajectory subject to some constraints. Our setup includes the \"ego\" vehicle (meaning the agent we control), a static obstacle, and a goal position to be reached.\n",
    "\n",
    "In this setup, we will not make the assumption of differential flatness and instead solve the problem with a nonlinear optimizer!\n"
   ]
  },
  {
   "cell_type": "markdown",
   "metadata": {
    "id": "Z09yDOn0fSvM"
   },
   "source": [
    "# Problem Setup\n",
    "We will first consider the case in which we are trying to generate a trajectory for a Turtlebot that must avoid an object. The agent has an initial position, a goal position, and a big obstacle in the center of the initial path. Our agent therefore must generate a trajectory that is dynamically feasible, does not collide with the obstacle, and reaches the final goal pose."
   ]
  },
  {
   "cell_type": "code",
   "execution_count": 1,
   "metadata": {
    "id": "8dsWwGaDcwdY"
   },
   "outputs": [],
   "source": [
    "import numpy as np\n",
    "import matplotlib.pyplot as plt\n",
    "from scipy.optimize import minimize, Bounds\n",
    "import typing as T"
   ]
  },
  {
   "cell_type": "code",
   "execution_count": 2,
   "metadata": {
    "id": "jfWNEbKMhCio"
   },
   "outputs": [],
   "source": [
    "from utils import simulate_car_dyn, maybe_makedirs\n"
   ]
  },
  {
   "cell_type": "code",
   "execution_count": 3,
   "metadata": {
    "id": "aXBY0tKZY-QT"
   },
   "outputs": [],
   "source": [
    "# Initial conditions and parameters\n",
    "EGO_START_POS, EGO_FINAL_GOAL_POS = (0.0,0.0), (5.0,5.0)\n",
    "EGO_RADIUS, OBS_RADIUS = 0.1, 0.3\n",
    "OBSTACLE_POS = (2.5, 2.5)"
   ]
  },
  {
   "cell_type": "markdown",
   "metadata": {
    "id": "Lb1lyHx8fwKB"
   },
   "source": [
    "# Visualizing the Scene"
   ]
  },
  {
   "cell_type": "code",
   "execution_count": 4,
   "metadata": {
    "id": "3qsiPYMzchxf"
   },
   "outputs": [],
   "source": [
    "def render_scene(traj=None, print_alpha=None):\n",
    "  fig, ax = plt.subplots()\n",
    "  ego_circle_start = plt.Circle(EGO_START_POS, radius=EGO_RADIUS, color='lime')\n",
    "  ego_circle_end   = plt.Circle(EGO_FINAL_GOAL_POS, radius=EGO_RADIUS, color='red')\n",
    "  obs_circle       = plt.Circle(OBSTACLE_POS, radius=OBS_RADIUS, color='blue')\n",
    "  ax.add_patch(obs_circle)\n",
    "  if traj is not None:\n",
    "    for i in range(traj.shape[0]):\n",
    "      x,y,theta = traj[i]\n",
    "      ego_circle_current = plt.Circle((x, y), radius=EGO_RADIUS, color='cyan')\n",
    "      ax.add_patch(ego_circle_current)\n",
    "      ego_arrow_current = plt.arrow(x, y, dx=np.cos(theta)/2, dy=np.sin(theta)/2, head_width=0.1)\n",
    "      ax.add_patch(ego_arrow_current)\n",
    "  ax.add_patch(ego_circle_start)\n",
    "  ax.add_patch(ego_circle_end)\n",
    "  ax.set_xlim((-1.0, 6.0))\n",
    "  ax.set_ylim((-1.0, 6.0))\n",
    "  ax.set_aspect('equal')\n",
    "  if print_alpha is not None:\n",
    "    plt.title(\"Alpha: {:.2f}\".format(print_alpha))\n",
    "  return plt"
   ]
  },
  {
   "cell_type": "code",
   "execution_count": 5,
   "metadata": {
    "colab": {
     "base_uri": "https://localhost:8080/",
     "height": 435
    },
    "executionInfo": {
     "elapsed": 274,
     "status": "ok",
     "timestamp": 1696018252736,
     "user": {
      "displayName": "Keiko Nagami",
      "userId": "10093190229210908038"
     },
     "user_tz": 420
    },
    "id": "sa-nhG64dMlw",
    "outputId": "0c6b3ccf-bc22-4300-cd3a-121b6664a067"
   },
   "outputs": [
    {
     "data": {
      "image/png": "[encoded data removed]",
      "text/plain": [
       "<Figure size 640x480 with 1 Axes>"
      ]
     },
     "metadata": {},
     "output_type": "display_data"
    }
   ],
   "source": [
    "# VIZUALIZE THE INITIAL SCENE\n",
    "# RED circle is the obstacle\n",
    "# GREEN is ego start position\n",
    "# BLUE is obstacle position\n",
    "plt = render_scene()\n",
    "plt.show()"
   ]
  },
  {
   "cell_type": "markdown",
   "metadata": {
    "id": "N2rPg41Ohu6E"
   },
   "source": [
    "## Code Setup\n",
    "\n",
    "Here we will define some essential values for our problem (such as the initial state, final state, etc.). We have also provided two helper functions that may be useful for you!\n",
    "\n",
    "**TODO:** Fill in code for the initial and final state of the ego agent below. Some hints are provided in the code comments"
   ]
  },
  {
   "cell_type": "code",
   "execution_count": 6,
   "metadata": {
    "id": "pm850gRihuEZ"
   },
   "outputs": [],
   "source": [
    "############################## Code starts here ##############################\n",
    "# TODO: Define the initial and final state as numpy arrays for the ego agent here\n",
    "# HINTS: Our state is a 3 dimensional vector [x, y, heading].\n",
    "s_0 = np.array([EGO_START_POS[0], EGO_START_POS[1], np.pi/2])  # Initial state.\n",
    "s_f = np.array([EGO_FINAL_GOAL_POS[0], EGO_FINAL_GOAL_POS[1], np.pi/2])  # Final state.\n",
    "############################## Code ends here ##############################\n",
    "\n",
    "N = 50  # Number of time discretization nodes (0, 1, ... N).\n",
    "s_dim = 3  # State dimension; 3 for (x, y, th).\n",
    "u_dim = 2  # Control dimension; 2 for (V, om).\n",
    "v_max = 0.5  # Maximum linear velocity.\n",
    "om_max = 1.0  # Maximum angular velocity.\n",
    "\n",
    "def pack_decision_variables(t_f: float, s: np.ndarray, u: np.ndarray) -> np.ndarray:\n",
    "    \"\"\"Packs decision variables (final time, states, controls) into a 1D vector.\n",
    "\n",
    "    Args:\n",
    "        t_f: Final time, a scalar.\n",
    "        s: States, an array of shape (N + 1, s_dim).\n",
    "        u: Controls, an array of shape (N, u_dim).\n",
    "\n",
    "    Returns:\n",
    "        An array `z` of shape (1 + (N + 1) * s_dim + N * u_dim,).\n",
    "    \"\"\"\n",
    "    return np.concatenate([[t_f], s.ravel(), u.ravel()])\n",
    "\n",
    "\n",
    "def unpack_decision_variables(z: np.ndarray) -> T.Tuple[float, np.ndarray, np.ndarray]:\n",
    "    \"\"\"Unpacks a 1D vector into decision variables (final time, states, controls).\n",
    "\n",
    "    Args:\n",
    "        z: An array of shape (1 + (N + 1) * s_dim + N * u_dim,).\n",
    "\n",
    "    Returns:\n",
    "        t_f: Final time, a scalar.\n",
    "        s: States, an array of shape (N + 1, s_dim).\n",
    "        u: Controls, an array of shape (N, u_dim).\n",
    "    \"\"\"\n",
    "    t_f = float(z[0])\n",
    "    s = z[1:1 + (N + 1) * s_dim].reshape(N + 1, s_dim)\n",
    "    u = z[-N * u_dim:].reshape(N, u_dim)\n",
    "    return t_f, s, u"
   ]
  },
  {
   "cell_type": "markdown",
   "metadata": {
    "id": "Tnq6CNk7g2A2"
   },
   "source": [
    "## Trajectory Optimization\n",
    "\n",
    "Next, we will define a function to set up and solve the trajectory optimization problem. Consider the following questions:\n",
    "\n",
    "\n",
    "\n",
    "1.   What is the cost for a given trajectory?\n",
    "2.   What are the **constraints** that the trajectory must obey? Constraints here are *equality* constraints.\n",
    "\n",
    "We will use scipy.optimize.minimize to solve this nonlinear optimization problem. You can find some documentation for this function [here](https://docs.scipy.org/doc/scipy/reference/generated/scipy.optimize.minimize.html)\n",
    "\n"
   ]
  },
  {
   "cell_type": "code",
   "execution_count": null,
   "metadata": {
    "id": "Ku5f2oEudUyJ"
   },
   "outputs": [],
   "source": [
    "def optimize_trajectory(\n",
    "    time_weight: float = 1.0,\n",
    "    verbose: bool = True\n",
    "):\n",
    "    \"\"\"Computes the optimal trajectory as a function of `time_weight`.\n",
    "\n",
    "    Args:\n",
    "        time_weight: \\alpha in the HW writeup.\n",
    "\n",
    "    Returns:\n",
    "        t_f_opt: Final time, a scalar.\n",
    "        s_opt: States, an array of shape (N + 1, s_dim).\n",
    "        u_opt: Controls, an array of shape (N, u_dim).\n",
    "    \"\"\"\n",
    "\n",
    "    def cost(z):\n",
    "        ############################## Code starts here ##############################\n",
    "        # TODO: Define a cost function here\n",
    "        # HINT: you may find `unpack_decision_variables` useful here. z is the packed 1D representation of t,s and u. Return the value of the cost.\n",
    "\n",
    "        t, s, u = unpack_decision_variables(z)\n",
    "        time_step = t / N\n",
    "        return np.sum((time_weight + u[:, 0] ** 2 + u[:, 1] ** 2) * time_step)\n",
    "        ############################## Code ends here ##############################\n",
    "\n",
    "    # Initialize the trajectory with a straight line\n",
    "    z_guess = pack_decision_variables(\n",
    "        20, s_0 + np.linspace(0, 1, N + 1)[:, np.newaxis] * (s_f - s_0),\n",
    "        np.ones(N * u_dim))\n",
    "\n",
    "    # Minimum and Maximum bounds on states and controls\n",
    "    # This is because we would want to include safety limits\n",
    "    # for omega (steering) and velocity (speed limit)\n",
    "    bounds = Bounds(\n",
    "        pack_decision_variables(\n",
    "            0., -np.inf * np.ones((N + 1, s_dim)),\n",
    "            np.array([0.01, -om_max]) * np.ones((N, u_dim))),\n",
    "        pack_decision_variables(\n",
    "            np.inf, np.inf * np.ones((N + 1, s_dim)),\n",
    "            np.array([v_max, om_max]) * np.ones((N, u_dim)))\n",
    "    )\n",
    "\n",
    "    # Define the equality constraints\n",
    "    def eq_constraints(z):\n",
    "        t_f, s, u = unpack_decision_variables(z)\n",
    "        dt = t_f / N\n",
    "        constraint_list = []\n",
    "        for i in range(N):\n",
    "            V, om = u[i]\n",
    "            x, y, th = s[i]\n",
    "            ############################## Code starts here ##############################\n",
    "            # TODO: Append to `constraint_list` with dynanics constraints\n",
    "            constraint_list.append(s[i + 1] - s[i] - dt * np.array([V * np.cos(th), V * np.sin(th), om]))\n",
    "            ############################## Code ends here ##############################\n",
    "\n",
    "        ############################## Code starts here ##############################\n",
    "        # TODO: Append to `constraint_list` with initial and final state constraints\n",
    "        constraint_list.append(s[0] - s_0)\n",
    "        constraint_list.append(s[-1] - s_f)\n",
    "        ############################## Code ends here ##############################\n",
    "        return np.concatenate(constraint_list)\n",
    "\n",
    "    # Define the inequality constraints\n",
    "    def ineq_constraints(z):\n",
    "      t_f, s, u = unpack_decision_variables(z)\n",
    "      dt = t_f / N\n",
    "      constraint_list = []\n",
    "      for i in range(N):\n",
    "          V, om = u[i]\n",
    "          x, y, th = s[i]\n",
    "          ############################## Code starts here ##############################\n",
    "          # TODO: Append to `constraint_list` with collision avoidance constraint\n",
    "          dist_to_obstacle = np.sqrt((x - OBSTACLE_POS[0])**2 + (y - OBSTACLE_POS[1])**2)\n",
    "          constraint_list.append(dist_to_obstacle - (EGO_RADIUS + OBS_RADIUS))\n",
    "          ############################## Code ends here ################################\n",
    "      return np.array(constraint_list)\n",
    "\n",
    "    result = minimize(cost,\n",
    "                      z_guess,\n",
    "                      bounds=bounds,\n",
    "                      constraints=[{\n",
    "                          'type': 'eq',\n",
    "                          'fun': eq_constraints\n",
    "                      },\n",
    "                      {\n",
    "                          'type': 'ineq',\n",
    "                          'fun': ineq_constraints\n",
    "                      }])\n",
    "    if verbose:\n",
    "        print(result)\n",
    "\n",
    "    return unpack_decision_variables(result.x)"
   ]
  },
  {
   "cell_type": "code",
   "execution_count": 8,
   "metadata": {
    "id": "EfGNzPN8jHST"
   },
   "outputs": [
    {
     "name": "stderr",
     "output_type": "stream",
     "text": [
      "C:\\Users\\ANDG-PCF\\AppData\\Roaming\\Python\\Python312\\site-packages\\scipy\\optimize\\_slsqp_py.py:434: RuntimeWarning: Values in x were outside bounds during a minimize step, clipping to bounds\n",
      "  fx = wrapped_fun(x)\n",
      "C:\\Users\\ANDG-PCF\\AppData\\Roaming\\Python\\Python312\\site-packages\\scipy\\optimize\\_slsqp_py.py:438: RuntimeWarning: Values in x were outside bounds during a minimize step, clipping to bounds\n",
      "  g = append(wrapped_grad(x), 0.0)\n",
      "C:\\Users\\ANDG-PCF\\AppData\\Roaming\\Python\\Python312\\site-packages\\scipy\\optimize\\_slsqp_py.py:492: RuntimeWarning: Values in x were outside bounds during a minimize step, clipping to bounds\n",
      "  a_eq = vstack([con['jac'](x, *con['args'])\n",
      "C:\\Users\\ANDG-PCF\\AppData\\Roaming\\Python\\Python312\\site-packages\\scipy\\optimize\\_slsqp_py.py:498: RuntimeWarning: Values in x were outside bounds during a minimize step, clipping to bounds\n",
      "  a_ieq = vstack([con['jac'](x, *con['args'])\n"
     ]
    },
    {
     "name": "stdout",
     "output_type": "stream",
     "text": [
      " message: Optimization terminated successfully\n",
      " success: True\n",
      "  status: 0\n",
      "     fun: 19.072902082916514\n",
      "       x: [ 1.465e+01  1.100e-19 ...  5.000e-01  5.241e-01]\n",
      "     nit: 35\n",
      "     jac: [ 1.302e+00  0.000e+00 ...  2.930e-01  3.069e-01]\n",
      "    nfev: 8927\n",
      "    njev: 35\n"
     ]
    }
   ],
   "source": [
    "# Call the trajectory optimizer\n",
    "t, s, u = optimize_trajectory()"
   ]
  },
  {
   "cell_type": "code",
   "execution_count": 9,
   "metadata": {
    "id": "WX-R-89YXVbK"
   },
   "outputs": [
    {
     "data": {
      "image/png": "[encoded data removed]",
      "text/plain": [
       "<Figure size 640x480 with 1 Axes>"
      ]
     },
     "metadata": {},
     "output_type": "display_data"
    }
   ],
   "source": [
    "# Plot optimized trajectory\n",
    "plt = render_scene(s)\n",
    "plt.show()"
   ]
  },
  {
   "cell_type": "markdown",
   "metadata": {
    "id": "_JNEkklO1yTS"
   },
   "source": [
    "Let's write a small wrapper function which gives us a plot of the trajectory for a given value of alpha"
   ]
  },
  {
   "cell_type": "code",
   "execution_count": 10,
   "metadata": {
    "id": "ePmxqd0V16Gq"
   },
   "outputs": [],
   "source": [
    "def show_traj_plan(alpha=1.0):\n",
    "  t, s, u = optimize_trajectory(time_weight=alpha)\n",
    "  print(\"Final time for alpha={}: {:.2f} sec\".format(alpha, t))\n",
    "  plt = render_scene(s, print_alpha=alpha)\n",
    "  plt.show()"
   ]
  },
  {
   "cell_type": "markdown",
   "metadata": {
    "id": "nvJ5yJ-V2IbY"
   },
   "source": [
    "## Varying alpha\n",
    "Let us now experiment with different values of alpha to see how the output changes. We have included three examples below, but feel free to experiment with other values as well!"
   ]
  },
  {
   "cell_type": "code",
   "execution_count": 13,
   "metadata": {
    "id": "zycxbTK72hRL"
   },
   "outputs": [
    {
     "name": "stderr",
     "output_type": "stream",
     "text": [
      "C:\\Users\\ANDG-PCF\\AppData\\Roaming\\Python\\Python312\\site-packages\\scipy\\optimize\\_slsqp_py.py:434: RuntimeWarning: Values in x were outside bounds during a minimize step, clipping to bounds\n",
      "  fx = wrapped_fun(x)\n",
      "C:\\Users\\ANDG-PCF\\AppData\\Roaming\\Python\\Python312\\site-packages\\scipy\\optimize\\_slsqp_py.py:438: RuntimeWarning: Values in x were outside bounds during a minimize step, clipping to bounds\n",
      "  g = append(wrapped_grad(x), 0.0)\n",
      "C:\\Users\\ANDG-PCF\\AppData\\Roaming\\Python\\Python312\\site-packages\\scipy\\optimize\\_slsqp_py.py:492: RuntimeWarning: Values in x were outside bounds during a minimize step, clipping to bounds\n",
      "  a_eq = vstack([con['jac'](x, *con['args'])\n",
      "C:\\Users\\ANDG-PCF\\AppData\\Roaming\\Python\\Python312\\site-packages\\scipy\\optimize\\_slsqp_py.py:498: RuntimeWarning: Values in x were outside bounds during a minimize step, clipping to bounds\n",
      "  a_ieq = vstack([con['jac'](x, *con['args'])\n"
     ]
    },
    {
     "name": "stdout",
     "output_type": "stream",
     "text": [
      " message: Optimization terminated successfully\n",
      " success: True\n",
      "  status: 0\n",
      "     fun: 19.072902082916514\n",
      "       x: [ 1.465e+01  1.100e-19 ...  5.000e-01  5.241e-01]\n",
      "     nit: 35\n",
      "     jac: [ 1.302e+00  0.000e+00 ...  2.930e-01  3.069e-01]\n",
      "    nfev: 8927\n",
      "    njev: 35\n",
      "Final time for alpha=1.0: 14.65 sec\n"
     ]
    },
    {
     "data": {
      "image/png": "[encoded data removed]",
      "text/plain": [
       "<Figure size 640x480 with 1 Axes>"
      ]
     },
     "metadata": {},
     "output_type": "display_data"
    }
   ],
   "source": [
    "show_traj_plan(alpha=1.0)"
   ]
  },
  {
   "cell_type": "code",
   "execution_count": 20,
   "metadata": {
    "id": "De2z_OQB3SRr"
   },
   "outputs": [
    {
     "name": "stdout",
     "output_type": "stream",
     "text": [
      " message: Optimization terminated successfully\n",
      " success: True\n",
      "  status: 0\n",
      "     fun: 5.009100157809899\n",
      "       x: [ 2.505e+01 -1.007e-19 ...  2.394e-01  2.201e-01]\n",
      "     nit: 59\n",
      "     jac: [ 2.000e-01  0.000e+00 ...  2.399e-01  2.206e-01]\n",
      "    nfev: 15050\n",
      "    njev: 59\n",
      "Final time for alpha=0.1: 25.05 sec\n"
     ]
    },
    {
     "data": {
      "image/png": "[encoded data removed]",
      "text/plain": [
       "<Figure size 640x480 with 1 Axes>"
      ]
     },
     "metadata": {},
     "output_type": "display_data"
    }
   ],
   "source": [
    "show_traj_plan(alpha=0.1)"
   ]
  }
 ],
 "metadata": {
  "colab": {
   "provenance": []
  },
  "kernelspec": {
   "display_name": "Python 3",
   "language": "python",
   "name": "python3"
  },
  "language_info": {
   "codemirror_mode": {
    "name": "ipython",
    "version": 3
   },
   "file_extension": ".py",
   "mimetype": "text/x-python",
   "name": "python",
   "nbconvert_exporter": "python",
   "pygments_lexer": "ipython3",
   "version": "3.12.4"
  }
 },
 "nbformat": 4,
 "nbformat_minor": 0
}
